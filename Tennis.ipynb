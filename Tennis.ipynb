{
 "cells": [
  {
   "cell_type": "markdown",
   "metadata": {},
   "source": [
    "# Collaboration and Competition\n",
    "\n",
    "---\n",
    "\n",
    "In this notebook, you will learn how to use the Unity ML-Agents environment for the third project of the [Deep Reinforcement Learning Nanodegree](https://www.udacity.com/course/deep-reinforcement-learning-nanodegree--nd893) program.\n",
    "\n",
    "### 1. Start the Environment\n",
    "\n",
    "We begin by importing the necessary packages.  If the code cell below returns an error, please revisit the project instructions to double-check that you have installed [Unity ML-Agents](https://github.com/Unity-Technologies/ml-agents/blob/master/docs/Installation.md) and [NumPy](http://www.numpy.org/)."
   ]
  },
  {
   "cell_type": "code",
   "execution_count": 1,
   "metadata": {},
   "outputs": [],
   "source": [
    "# from unityagents import UnityEnvironment\n",
    "# import numpy as np"
   ]
  },
  {
   "cell_type": "markdown",
   "metadata": {},
   "source": [
    "Next, we will start the environment!  **_Before running the code cell below_**, change the `file_name` parameter to match the location of the Unity environment that you downloaded.\n",
    "\n",
    "- **Mac**: `\"path/to/Tennis.app\"`\n",
    "- **Windows** (x86): `\"path/to/Tennis_Windows_x86/Tennis.exe\"`\n",
    "- **Windows** (x86_64): `\"path/to/Tennis_Windows_x86_64/Tennis.exe\"`\n",
    "- **Linux** (x86): `\"path/to/Tennis_Linux/Tennis.x86\"`\n",
    "- **Linux** (x86_64): `\"path/to/Tennis_Linux/Tennis.x86_64\"`\n",
    "- **Linux** (x86, headless): `\"path/to/Tennis_Linux_NoVis/Tennis.x86\"`\n",
    "- **Linux** (x86_64, headless): `\"path/to/Tennis_Linux_NoVis/Tennis.x86_64\"`\n",
    "\n",
    "For instance, if you are using a Mac, then you downloaded `Tennis.app`.  If this file is in the same folder as the notebook, then the line below should appear as follows:\n",
    "```\n",
    "env = UnityEnvironment(file_name=\"Tennis.app\")\n",
    "```"
   ]
  },
  {
   "cell_type": "code",
   "execution_count": 2,
   "metadata": {},
   "outputs": [],
   "source": [
    "# env = UnityEnvironment(file_name=\"./Tennis_Linux/Tennis.x86_64\")"
   ]
  },
  {
   "cell_type": "markdown",
   "metadata": {},
   "source": [
    "Environments contain **_brains_** which are responsible for deciding the actions of their associated agents. Here we check for the first brain available, and set it as the default brain we will be controlling from Python."
   ]
  },
  {
   "cell_type": "code",
   "execution_count": 3,
   "metadata": {},
   "outputs": [],
   "source": [
    "# # get the default brain\n",
    "# brain_name = env.brain_names[0]\n",
    "# brain = env.brains[brain_name]"
   ]
  },
  {
   "cell_type": "markdown",
   "metadata": {},
   "source": [
    "### 2. Examine the State and Action Spaces\n",
    "\n",
    "In this environment, two agents control rackets to bounce a ball over a net. If an agent hits the ball over the net, it receives a reward of +0.1.  If an agent lets a ball hit the ground or hits the ball out of bounds, it receives a reward of -0.01.  Thus, the goal of each agent is to keep the ball in play.\n",
    "\n",
    "The observation space consists of 8 variables corresponding to the position and velocity of the ball and racket. Two continuous actions are available, corresponding to movement toward (or away from) the net, and jumping. \n",
    "\n",
    "Run the code cell below to print some information about the environment."
   ]
  },
  {
   "cell_type": "code",
   "execution_count": 4,
   "metadata": {},
   "outputs": [],
   "source": [
    "# # reset the environment\n",
    "# env_info = env.reset(train_mode=True)[brain_name]\n",
    "\n",
    "# # number of agents \n",
    "# num_agents = len(env_info.agents)\n",
    "# print('Number of agents:', num_agents)\n",
    "\n",
    "# # size of each action\n",
    "# action_size = brain.vector_action_space_size\n",
    "# print('Size of each action:', action_size)\n",
    "\n",
    "# # examine the state space \n",
    "# states = env_info.vector_observations\n",
    "# state_size = states.shape[1]\n",
    "# print('There are {} agents. Each observes a state with length: {}'.format(states.shape[0], state_size))\n",
    "# print('The state for the first agent looks like:', states[0])"
   ]
  },
  {
   "cell_type": "markdown",
   "metadata": {},
   "source": [
    "### 3. Take Random Actions in the Environment\n",
    "\n",
    "In the next code cell, you will learn how to use the Python API to control the agents and receive feedback from the environment.\n",
    "\n",
    "Once this cell is executed, you will watch the agents' performance, if they select actions at random with each time step.  A window should pop up that allows you to observe the agents.\n",
    "\n",
    "Of course, as part of the project, you'll have to change the code so that the agents are able to use their experiences to gradually choose better actions when interacting with the environment!"
   ]
  },
  {
   "cell_type": "code",
   "execution_count": 5,
   "metadata": {},
   "outputs": [],
   "source": [
    "# for i in range(1, 6):                                      # play game for 5 episodes\n",
    "#     env_info = env.reset(train_mode=False)[brain_name]     # reset the environment    \n",
    "#     states = env_info.vector_observations                  # get the current state (for each agent)\n",
    "#     scores = np.zeros(num_agents)                          # initialize the score (for each agent)\n",
    "#     while True:\n",
    "#         actions = np.random.randn(num_agents, action_size) # select an action (for each agent)\n",
    "#         actions = np.clip(actions, -1, 1)                  # all actions between -1 and 1\n",
    "#         env_info = env.step(actions)[brain_name]           # send all actions to tne environment\n",
    "#         next_states = env_info.vector_observations         # get next state (for each agent)\n",
    "#         rewards = env_info.rewards                         # get reward (for each agent)\n",
    "#         dones = env_info.local_done                        # see if episode finished\n",
    "#         scores += env_info.rewards                         # update the score (for each agent)\n",
    "#         states = next_states                               # roll over states to next time step\n",
    "#         if np.any(dones):                                  # exit loop if episode finished\n",
    "#             break\n",
    "#     print('Score (max over agents) from episode {}: {}'.format(i, np.max(scores)))"
   ]
  },
  {
   "cell_type": "markdown",
   "metadata": {},
   "source": [
    "When finished, you can close the environment."
   ]
  },
  {
   "cell_type": "code",
   "execution_count": 6,
   "metadata": {},
   "outputs": [],
   "source": [
    "# env.close()"
   ]
  },
  {
   "cell_type": "markdown",
   "metadata": {},
   "source": [
    "### 4. It's Your Turn!\n",
    "\n",
    "Now it's your turn to train your own agent to solve the environment!  When training the environment, set `train_mode=True`, so that the line for resetting the environment looks like the following:\n",
    "```python\n",
    "env_info = env.reset(train_mode=True)[brain_name]\n",
    "```"
   ]
  },
  {
   "cell_type": "markdown",
   "metadata": {},
   "source": [
    "#### Execution Parameters"
   ]
  },
  {
   "cell_type": "code",
   "execution_count": 7,
   "metadata": {},
   "outputs": [],
   "source": [
    "episodes     = 2500\n",
    "goal_score   = 0.5\n",
    "\n",
    "is_learning  = True # True: Training mode, False: Demo mode\n",
    "stop_at_goal = True # True: Training stops at the episode when goal is achieved, False: Finishes all episodes\n",
    "\n",
    "checkptfile  = 'tennis_ddpg.ckpt' # File name format for model checkpoint files"
   ]
  },
  {
   "cell_type": "markdown",
   "metadata": {},
   "source": [
    "#### Hyper Parameters"
   ]
  },
  {
   "cell_type": "code",
   "execution_count": 8,
   "metadata": {},
   "outputs": [],
   "source": [
    "SEED                = 0\n",
    "REPLAY_BUFFER_SIZE  = 1e+6 # DDPG Paper = 1e+6\n",
    "ACTOR_LR            = 1e-4 # DDPG Paper = 1e-4\n",
    "CRITIC_LR           = 1e-3 # DDPG Paper = 1e-3\n",
    "GAMMA               = 0.99 # DDPG Paper = 0.99\n",
    "TAU                 = 1e-2 # DDPG Paper = 1e-3\n",
    "BATCH_SIZE          = 512  # DDPG Paper = 32\n",
    "WEIGHT_DECAY        = 0    # DDPG Paper = 1e-2\n",
    "HIDDEN_NODES        = [256, 128] # DDPG Paper = 400, 300"
   ]
  },
  {
   "cell_type": "markdown",
   "metadata": {},
   "source": [
    "#### Back-up checkpoint files from prior runs"
   ]
  },
  {
   "cell_type": "code",
   "execution_count": 9,
   "metadata": {},
   "outputs": [],
   "source": [
    "import glob\n",
    "import os\n",
    "import shutil\n",
    "\n",
    "ckpts = glob.glob(checkptfile.split('.')[0] + '*' + '.ckpt')\n",
    "\n",
    "for ckpt in ckpts:\n",
    "    print(f'Backing up : {ckpt}')\n",
    "    shutil.copy2(ckpt, ckpt + '.bkp')"
   ]
  },
  {
   "cell_type": "markdown",
   "metadata": {},
   "source": [
    "#### Load Unity environment\n",
    "Linux version is available [here](https://s3-us-west-1.amazonaws.com/udacity-drlnd/P3/Tennis/Tennis_Linux.zip)\n"
   ]
  },
  {
   "cell_type": "code",
   "execution_count": 10,
   "metadata": {},
   "outputs": [],
   "source": [
    "from unityagents import UnityEnvironment"
   ]
  },
  {
   "cell_type": "code",
   "execution_count": 11,
   "metadata": {},
   "outputs": [
    {
     "name": "stderr",
     "output_type": "stream",
     "text": [
      "INFO:unityagents:\n",
      "'Academy' started successfully!\n",
      "Unity Academy name: Academy\n",
      "        Number of Brains: 1\n",
      "        Number of External Brains : 1\n",
      "        Lesson number : 0\n",
      "        Reset Parameters :\n",
      "\t\t\n",
      "Unity brain name: TennisBrain\n",
      "        Number of Visual Observations (per agent): 0\n",
      "        Vector Observation space type: continuous\n",
      "        Vector Observation space size (per agent): 8\n",
      "        Number of stacked Vector Observation: 3\n",
      "        Vector Action space type: continuous\n",
      "        Vector Action space size (per agent): 2\n",
      "        Vector Action descriptions: , \n"
     ]
    }
   ],
   "source": [
    "if is_learning:\n",
    "    env = UnityEnvironment(file_name='./Tennis_Linux/Tennis.x86_64', no_graphics=True)\n",
    "else:\n",
    "    env = UnityEnvironment(file_name='./Tennis_Linux/Tennis.x86_64')"
   ]
  },
  {
   "cell_type": "code",
   "execution_count": 12,
   "metadata": {},
   "outputs": [
    {
     "name": "stdout",
     "output_type": "stream",
     "text": [
      "Env has 2 agents. Total states = 24, Possible actions = 2\n"
     ]
    }
   ],
   "source": [
    "brain_name  = env.brain_names[0]\n",
    "env_info    = env.reset(train_mode=True)[brain_name]\n",
    "brain       = env.brains[brain_name]\n",
    "\n",
    "num_agents  = len(env_info.agents)\n",
    "states      = env_info.vector_observations\n",
    "action_size = brain.vector_action_space_size\n",
    "state_size  = states.shape[1]\n",
    "\n",
    "print(f'Env has {num_agents} agents. Total states = {state_size}, Possible actions = {action_size}')"
   ]
  },
  {
   "cell_type": "markdown",
   "metadata": {},
   "source": [
    "#### Util Classes"
   ]
  },
  {
   "cell_type": "code",
   "execution_count": 13,
   "metadata": {},
   "outputs": [
    {
     "name": "stdout",
     "output_type": "stream",
     "text": [
      "Using CUDA: GeForce RTX 2060 SUPER\n"
     ]
    }
   ],
   "source": [
    "import torch as T\n",
    "\n",
    "class CheckDevice(object):\n",
    "    \"\"\"\n",
    "    Check if a compatible graphics card is available\n",
    "    \"\"\"\n",
    "    def __init__(self):\n",
    "        if T.cuda.is_available():\n",
    "            self._device = T.device('cuda:0')\n",
    "            print(f'Using CUDA: {T.cuda.get_device_name()}')\n",
    "        else:\n",
    "            self._device = T.device('cpu')\n",
    "            print('Using CPU')\n",
    "    \n",
    "    @property\n",
    "    def device(self):\n",
    "        return self._device\n",
    "    \n",
    "DEVICE = CheckDevice().device"
   ]
  },
  {
   "cell_type": "code",
   "execution_count": 14,
   "metadata": {},
   "outputs": [],
   "source": [
    "# Ornstein-Uhlenbeck Noise\n",
    "# More info https://en.wikipedia.org/wiki/Ornstein%E2%80%93Uhlenbeck_process\n",
    "\n",
    "import numpy as np\n",
    "\n",
    "class OUNoise:\n",
    "    \"\"\"Ornstein-Uhlenbeck Noise.\n",
    "    theta >0 : Speed of reversion\n",
    "    sigma >0 : The standard deviation parameter, determines volatility\n",
    "    W_{t}    : Wiener process\n",
    "    mu       : Drift term - long term mean level\n",
    "    Default values from DDPG paper: theta=0.15, sigma=0.20\n",
    "    DDPG Paper: https://arxiv.org/pdf/1509.02971.pdf\n",
    "    \"\"\"\n",
    "    def __init__(self, action_len, seed=0, theta=0.15, sigma=0.20, mu=0):\n",
    "        self.action_len = action_len\n",
    "        self.seed  = seed\n",
    "        self.theta = theta\n",
    "        self.sigma = sigma\n",
    "        self.mu = mu\n",
    "        \n",
    "        np.random.seed(self.seed)\n",
    "        self.reset()\n",
    "\n",
    "    def reset(self):\n",
    "        self.state = np.ones(self.action_len) * self.mu\n",
    "\n",
    "    def add_noise(self):\n",
    "        x  = self.state\n",
    "        dx = self.theta * (self.mu - x) + self.sigma * np.random.randn(len(x))\n",
    "        self.state = x + dx\n",
    "        return self.state"
   ]
  },
  {
   "cell_type": "code",
   "execution_count": 15,
   "metadata": {},
   "outputs": [],
   "source": [
    "from collections import namedtuple, deque\n",
    "import random\n",
    "\n",
    "class ReplayBuffer:\n",
    "    \"\"\"\n",
    "    Experience('state', 'action', 'next_state', 'reward', 'done')\n",
    "    Default values from DDPG paper: Replay buffer size = 1e+6\n",
    "    DDPG Paper: https://arxiv.org/pdf/1509.02971.pdf\n",
    "    \"\"\"\n",
    "    def __init__(self, capacity=1e+6, seed=0):\n",
    "        self.memory     = deque(maxlen=int(capacity))\n",
    "        self.seed       = random.seed(seed)\n",
    "        self.device     = DEVICE\n",
    "        self.experience = namedtuple(\"Experience\", \n",
    "                                     field_names=[\"state\", \"action\", \"reward\", \"next_state\", \"done\"])\n",
    "    \n",
    "    def save(self, state, action, reward, next_state, done):\n",
    "        experience = self.experience(state, action, reward, next_state, done)\n",
    "        self.memory.append(experience)\n",
    "    \n",
    "    def retrieve(self, batch_size):\n",
    "        experiences = random.sample(self.memory, k=batch_size)\n",
    "        return experiences\n",
    "\n",
    "    def __len__(self):\n",
    "        return len(self.memory)"
   ]
  },
  {
   "cell_type": "markdown",
   "metadata": {},
   "source": [
    "#### DDPG Classes"
   ]
  },
  {
   "cell_type": "code",
   "execution_count": 16,
   "metadata": {},
   "outputs": [],
   "source": [
    "import math\n",
    "\n",
    "import torch as T\n",
    "import torch.nn as nn\n",
    "import torch.nn.functional as F\n",
    "\n",
    "class Actor(nn.Module):\n",
    "    \"\"\"\n",
    "    Enhancement TODO: Add Batch Normalization to match DDPG paper\n",
    "    \n",
    "    DDPG paper (https://arxiv.org/pdf/1509.02971.pdf) ref:\n",
    "    ------------------------------------------------------\n",
    "    We used Adam (Kingma & Ba, 2014) for learning the neural network parameters \n",
    "    with a learning rate of 10−4 and 10−3 for the actor and critic respectively.\n",
    "    \n",
    "    The low-dimensional networks had 2 hidden layers with 400 and 300 units \n",
    "    respectively (≈ 130,000 parameters). \n",
    "    \n",
    "    Actions were not included until the 2nd hidden layer of Q. \n",
    "    \n",
    "    << When learning from pixels we used 3 convolutional layers\n",
    "    (no pooling) with 32 filters at each layer. >> \n",
    "    \n",
    "    This was followed by two fully connected layers with 200 units. \n",
    "    \n",
    "    The final layer weights and biases of both the actor and critic\n",
    "    were initialized from a uniform distribution [−3 × 10−3, 3 × 10−3] \n",
    "    \"\"\"\n",
    "    def __init__(self, states_len, actions_len, lr=1e-4, hidden_nodes=[400, 300], seed=0, name='actor'):\n",
    "        super(Actor, self).__init__()\n",
    "\n",
    "        self.seed   = T.manual_seed(seed)\n",
    "        self.device = DEVICE\n",
    "        \n",
    "        self.states_len  = states_len\n",
    "        self.actions_len = actions_len\n",
    "        self.hidden_in   = hidden_nodes[0]\n",
    "        self.hidden_out  = hidden_nodes[1]\n",
    "        self.name        = name\n",
    "        \n",
    "        self.inp = nn.Linear(self.states_len, self.hidden_in)\n",
    "        self.h1  = nn.Linear(self.hidden_in, self.hidden_out)\n",
    "        self.out = nn.Linear(self.hidden_out, self.actions_len)\n",
    "        \n",
    "        self.init_WandB(self.inp)\n",
    "        self.init_WandB(self.h1)\n",
    "        self.init_WandB(self.out, stdv_sigma=3e-3)\n",
    "\n",
    "        # Convert the tensors based on available device\n",
    "        self.to(self.device)\n",
    "\n",
    "    def init_WandB(self, layer, stdv_sigma=None):\n",
    "        \"\"\"\n",
    "        Initialize weights and biases for a better convergence\n",
    "        \"\"\"\n",
    "        # Find standard deviation\n",
    "        if stdv_sigma is None:\n",
    "            stdv_sigma = 1. / math.sqrt(layer.weight.data.size()[0])\n",
    "\n",
    "        # Use the stdv as the upper and lower boundary\n",
    "        T.nn.init.uniform_(layer.weight.data, -stdv_sigma, stdv_sigma)\n",
    "        T.nn.init.uniform_(layer.bias.data, -stdv_sigma, stdv_sigma)\n",
    "\n",
    "    def forward(self, states):\n",
    "        \"\"\"\n",
    "        Build the policy/actor network that maps states to actions.\n",
    "        Using Tanh activation as per DDPG paper\n",
    "        \"\"\"\n",
    "        l1_states  = F.relu(self.inp(states))\n",
    "        l2_states  = F.relu(self.h1(l1_states))\n",
    "        l3_actions = T.tanh(self.out(l2_states))\n",
    "\n",
    "        return l3_actions\n",
    "    \n",
    "    def save_model(self, filename):\n",
    "        filedata = filename.split('.')\n",
    "        filename = filedata[0] + '_' + self.name + '.' + filedata[1]\n",
    "        T.save(self.state_dict(), filename)\n",
    "        \n",
    "    def load_model(self, filename):\n",
    "        filedata = filename.split('.')\n",
    "        filename = filedata[0] + '_' + self.name + '.' + filedata[1]\n",
    "        self.load_state_dict(T.load(filename))\n",
    "        \n",
    "# if __name__ == '__main__':\n",
    "#     actor = Actor(33,4, hidden_nodes=[33//2, 33//4])\n",
    "#     print(f'{actor}')"
   ]
  },
  {
   "cell_type": "code",
   "execution_count": 17,
   "metadata": {},
   "outputs": [],
   "source": [
    "import math\n",
    "\n",
    "import torch as T\n",
    "import torch.nn as nn\n",
    "import torch.nn.functional as F\n",
    "\n",
    "class Critic(nn.Module):\n",
    "    \"\"\"\n",
    "    DDPG paper (https://arxiv.org/pdf/1509.02971.pdf) ref:\n",
    "    ------------------------------------------------------\n",
    "    We used Adam (Kingma & Ba, 2014) for learning the neural network parameters \n",
    "    with a learning rate of 10−4 and 10−3 for the actor and critic respectively.\n",
    "    \n",
    "    The low-dimensional networks had 2 hidden layers with 400 and 300 units \n",
    "    respectively (≈ 130,000 parameters). \n",
    "    \n",
    "    Actions were not included until the 2nd hidden layer of Q. \n",
    "    \n",
    "    << When learning from pixels we used 3 convolutional layers\n",
    "    (no pooling) with 32 filters at each layer. >> \n",
    "    \n",
    "    This was followed by two fully connected layers with 200 units. \n",
    "    \n",
    "    The final layer weights and biases of both the actor and critic\n",
    "    were initialized from a uniform distribution [−3 × 10−3, 3 × 10−3] \n",
    "    \"\"\"\n",
    "    def __init__(self, states_len, actions_len, lr=1e-3, hidden_nodes=[400, 300], seed=0, name='critic'):\n",
    "        super(Critic, self).__init__()\n",
    "        \n",
    "        self.seed   = T.manual_seed(seed)\n",
    "        self.device = DEVICE\n",
    "        \n",
    "        self.states_len  = states_len\n",
    "        self.actions_len = actions_len\n",
    "        self.hidden_in   = hidden_nodes[0]\n",
    "        self.hidden_out  = hidden_nodes[1]\n",
    "        self.name        = name\n",
    "        \n",
    "        self.inp = nn.Linear(self.states_len, self.hidden_in)\n",
    "        self.h1  = nn.Linear(self.hidden_in + actions_len, self.hidden_out)\n",
    "        self.out = nn.Linear(self.hidden_out, 1)\n",
    "        \n",
    "        self.init_WandB(self.inp)\n",
    "        self.init_WandB(self.h1)\n",
    "        self.init_WandB(self.out, stdv_sigma=3e-3)\n",
    "        \n",
    "        self.to(self.device)\n",
    "\n",
    "    def init_WandB(self, layer, stdv_sigma=None):\n",
    "        \"\"\"\n",
    "        Initialize weights and biases for a better convergence\n",
    "        \"\"\"\n",
    "        # Find standard deviation\n",
    "        if stdv_sigma is None:\n",
    "            stdv_sigma = 1. / math.sqrt(layer.weight.data.size()[0])\n",
    "\n",
    "        # Use the stdv as the upper and lower boundary\n",
    "        T.nn.init.uniform_(layer.weight.data, -stdv_sigma, stdv_sigma)\n",
    "        T.nn.init.uniform_(layer.bias.data, -stdv_sigma, stdv_sigma)\n",
    "\n",
    "    def forward(self, state, action):\n",
    "        l1_states         = F.relu(self.inp(state))\n",
    "        l1_states_actions = T.cat((l1_states, action), dim=1)\n",
    "        l2_states_actions = F.relu(self.h1(l1_states_actions))\n",
    "        l3_states_actions = self.out(l2_states_actions)\n",
    "        \n",
    "        return l3_states_actions\n",
    "    \n",
    "    def save_model(self, filename):\n",
    "        filedata = filename.split('.')\n",
    "        filename = filedata[0] + '_' + self.name + '.' + filedata[1]\n",
    "        T.save(self.state_dict(), filename)\n",
    "        \n",
    "    def load_model(self, filename):\n",
    "        filedata = filename.split('.')\n",
    "        filename = filedata[0] + '_' + self.name + '.' + filedata[1]\n",
    "        self.load_state_dict(T.load(filename))"
   ]
  },
  {
   "cell_type": "code",
   "execution_count": 18,
   "metadata": {},
   "outputs": [],
   "source": [
    "import torch.optim as optim\n",
    "\n",
    "class Agent():\n",
    "    def __init__(self, state_size, action_size, num_agents, seed=0):\n",
    "        self.device = DEVICE\n",
    "        \n",
    "        self.state_size  = state_size\n",
    "        self.action_size = action_size\n",
    "        self.num_agents  = num_agents\n",
    "        self.seed        = seed\n",
    "\n",
    "        self.actor_local      = Actor(state_size, action_size, hidden_nodes=HIDDEN_NODES, seed=self.seed, name='lactor')\n",
    "        self.actor_target     = Actor(state_size, action_size, hidden_nodes=HIDDEN_NODES, seed=self.seed, name='tactor')\n",
    "        self.actor_optimizer  = optim.Adam(self.actor_local.parameters(), lr=ACTOR_LR)\n",
    "        \n",
    "        self.critic_local     = Critic(state_size, action_size, hidden_nodes=HIDDEN_NODES, seed=self.seed, name='lcritic')\n",
    "        self.critic_target    = Critic(state_size, action_size, hidden_nodes=HIDDEN_NODES, seed=self.seed, name='tcritic')\n",
    "        self.critic_optimizer = optim.Adam(self.critic_local.parameters(), lr=CRITIC_LR, weight_decay=WEIGHT_DECAY)\n",
    "        \n",
    "        self.noise  = OUNoise(action_size, seed=SEED)\n",
    "        self.memory = ReplayBuffer(seed=SEED)\n",
    "        \n",
    "    def step(self, states, actions, rewards, next_states, dones):\n",
    "        # Save experience to memory, for each agent\n",
    "        for i in range(self.num_agents):\n",
    "            self.memory.save(states[i,:], actions[i,:], rewards[i], next_states[i,:], dones[i])\n",
    "\n",
    "        # Learn by memory exploitation\n",
    "        if len(self.memory) > BATCH_SIZE:\n",
    "            experiences = self.memory.retrieve(BATCH_SIZE)\n",
    "            self.learn(experiences, GAMMA)\n",
    "\n",
    "    def get_next_action(self, states, add_noise=True):\n",
    "        states  = T.from_numpy(states).float().to(self.device)\n",
    "        actions = np.zeros((self.num_agents, self.action_size))\n",
    "        self.actor_local.eval()\n",
    "        with T.no_grad():\n",
    "            for agent_num, state in enumerate(states):\n",
    "                # Get action values for each agent\n",
    "                action = self.actor_local(state).cpu().data.numpy()\n",
    "                # Append the actions for each agent\n",
    "                actions[agent_num, :] = action\n",
    "        self.actor_local.train()\n",
    "        if add_noise:\n",
    "            actions += self.noise.add_noise()\n",
    "        # Set -1 to 1 boundary before returning the action value \n",
    "        # as per instruction \"Every entry in the action vector should be a number between -1 and 1.\"\n",
    "        return np.clip(actions, -1, 1)\n",
    "\n",
    "    def reset(self):\n",
    "        self.noise.reset()\n",
    "        \n",
    "    def learn(self, experiences, gamma):\n",
    "        # Rearrange the tensors to use with learning \n",
    "        states      = T.from_numpy(np.vstack([e.state for e in experiences if e is not None])).float().to(self.device)\n",
    "        actions     = T.from_numpy(np.vstack([e.action for e in experiences if e is not None])).float().to(self.device)\n",
    "        rewards     = T.from_numpy(np.vstack([e.reward for e in experiences if e is not None])).float().to(self.device)\n",
    "        next_states = T.from_numpy(np.vstack([e.next_state for e in experiences if e is not None])).float().to(self.device)\n",
    "        dones       = T.from_numpy(np.vstack([e.done for e in experiences if e is not None]).astype(np.uint8)).float().to(self.device)\n",
    "\n",
    "        # Get predicted next-state actions and Q values from target models\n",
    "        actions_next   = self.actor_target(next_states)\n",
    "        Q_targets_next = self.critic_target(next_states, actions_next)\n",
    "        # Compute Q targets for current states (y_i)\n",
    "        Q_targets = rewards + (gamma * Q_targets_next * (1 - dones))\n",
    "\n",
    "        Q_expected  = self.critic_local(states, actions)\n",
    "        critic_loss = F.mse_loss(Q_expected, Q_targets)\n",
    "        \n",
    "        self.critic_optimizer.zero_grad()\n",
    "        critic_loss.backward()\n",
    "        # Normalize gradients to avoid high gradients\n",
    "        T.nn.utils.clip_grad_norm_(self.critic_local.parameters(), 1)\n",
    "        self.critic_optimizer.step()\n",
    "\n",
    "        actions_pred = self.actor_local(states)\n",
    "        # Getting the average value from Critic to compare against Actor action\n",
    "        actor_loss   = -self.critic_local(states, actions_pred).mean()\n",
    "\n",
    "        self.actor_optimizer.zero_grad()\n",
    "        actor_loss.backward()\n",
    "        self.actor_optimizer.step()\n",
    "\n",
    "        # Update networks\n",
    "        self.soft_update(self.critic_local, self.critic_target, TAU)\n",
    "        self.soft_update(self.actor_local, self.actor_target, TAU)                     \n",
    "\n",
    "    def soft_update(self, local_model, target_model, tau):\n",
    "        \"\"\"Soft update model parameters.\n",
    "        θ_target = τ*θ_local + (1 - τ)*θ_target\n",
    "        Params\n",
    "        ======\n",
    "            local_model: PyTorch model (weights will be copied from)\n",
    "            target_model: PyTorch model (weights will be copied to)\n",
    "            tau (float): interpolation parameter \n",
    "        \"\"\"\n",
    "        for target_param, local_param in zip(target_model.parameters(), local_model.parameters()):\n",
    "            target_param.data.copy_(tau*local_param.data + (1.0-tau)*target_param.data)\n",
    "            \n",
    "    def save_models(self, filename):\n",
    "        self.actor_local.save_model(filename)\n",
    "        self.actor_target.save_model(filename)\n",
    "        self.critic_local.save_model(filename)\n",
    "        self.critic_target.save_model(filename)\n",
    "        \n",
    "    def load_models(self, filename):\n",
    "        self.actor_local.load_model(filename)\n",
    "        self.actor_target.load_model(filename)\n",
    "        self.critic_local.load_model(filename)\n",
    "        self.critic_target.load_model(filename)\n"
   ]
  },
  {
   "cell_type": "markdown",
   "metadata": {},
   "source": [
    "### Instantiate an agent"
   ]
  },
  {
   "cell_type": "code",
   "execution_count": 19,
   "metadata": {},
   "outputs": [],
   "source": [
    "agent = Agent(state_size, action_size, num_agents, seed=0)"
   ]
  },
  {
   "cell_type": "markdown",
   "metadata": {},
   "source": [
    "### Training the agent"
   ]
  },
  {
   "cell_type": "code",
   "execution_count": 20,
   "metadata": {
    "scrolled": false
   },
   "outputs": [
    {
     "name": "stdout",
     "output_type": "stream",
     "text": [
      "Target Goal: 0.5\n",
      "  100/2500: Last3 = ['0.0', '0.0', '0.0'] << Last 100 Avg = 0.00, Max Avg = 0.00 >> Elapsed = 0:00:13    \n",
      "  200/2500: Last3 = ['0.0', '0.0', '0.0'] << Last 100 Avg = 0.01, Max Avg = 0.01 >> Elapsed = 0:00:28    \n",
      "  300/2500: Last3 = ['0.0', '0.0', '0.0'] << Last 100 Avg = 0.02, Max Avg = 0.02 >> Elapsed = 0:00:47    \n",
      "  400/2500: Last3 = ['0.0', '0.1', '0.1'] << Last 100 Avg = 0.04, Max Avg = 0.04 >> Elapsed = 0:01:09    \n",
      "  500/2500: Last3 = ['0.1', '0.1', '0.2'] << Last 100 Avg = 0.10, Max Avg = 0.10 >> Elapsed = 0:01:43    \n",
      "  600/2500: Last3 = ['0.0', '0.3', '0.3'] << Last 100 Avg = 0.22, Max Avg = 0.22 >> Elapsed = 0:02:43    \n",
      "  700/2500: Last3 = ['0.5', '0.7', '0.0'] << Last 100 Avg = 0.50, Max Avg = 0.50 >> Elapsed = 0:04:40    \n",
      "  701/2500: Last3 = ['0.7', '0.0', '0.7'] << Last 100 Avg = 0.50, Max Avg = 0.50 >> Elapsed = 0:04:41    \n",
      "\n",
      "Solved in 701 episodes - Received an average score of 0.50 in last 100\n",
      "\n",
      "Training completed. Models saved.\n"
     ]
    }
   ],
   "source": [
    "import datetime\n",
    "import math\n",
    "from pytictoc import TicToc\n",
    "\n",
    "scores     = []\n",
    "avg_scores = []\n",
    "avg_score, max_avg_score = None, None\n",
    "goal_ep    = 0\n",
    "\n",
    "if is_learning:\n",
    "    print(f'Target Goal: {goal_score}')\n",
    "    t = TicToc()\n",
    "    t.tic()\n",
    "    for ep in range(1, episodes + 1):\n",
    "        env_info = env.reset(train_mode=True)[brain_name]\n",
    "        states   = env_info.vector_observations\n",
    "        done     = False\n",
    "        reward   = 0.\n",
    "\n",
    "        while not done:\n",
    "            actions     = agent.get_next_action(states)\n",
    "            env_info    = env.step(actions)[brain_name]\n",
    "            next_states = env_info.vector_observations\n",
    "            rewards     = env_info.rewards\n",
    "            dones       = env_info.local_done\n",
    "\n",
    "            agent.step(states, actions, rewards, next_states, dones)\n",
    "\n",
    "            reward  += np.max(rewards)\n",
    "            states   = next_states\n",
    "            done     = np.any(dones)\n",
    "\n",
    "        scores.append(reward)\n",
    "        avg_score = np.mean(scores[-100:])\n",
    "        avg_scores.append(avg_score)\n",
    "        \n",
    "        perf    = [f'{scr:1.1f}' for scr in scores[-3:]] # Last 3 scores\n",
    "        elapsed = str(datetime.timedelta(seconds=math.ceil(t.tocvalue()))) # Removing Microseconds with ceil()\n",
    "\n",
    "        if max_avg_score is None or max_avg_score < avg_score:\n",
    "            max_avg_ep    = ep\n",
    "            \n",
    "            if ep / episodes > .1:\n",
    "                # Save models after at least 10% of episodes are complete *and* when there is improvement\n",
    "                agent.save_models(checkptfile)\n",
    "                print(f'\\rModels Saved at {max_avg_ep}. Max score changed from {max_avg_score:3.2f} to {avg_score:3.2f}, Time Elapsed = {elapsed}                      ', end='')\n",
    "            max_avg_score = avg_score\n",
    "\n",
    "        print(f'\\r{ep:5d}/{episodes}: Last3 = {perf} << Last 100 Avg = {avg_score:3.2f}, Max Avg = {max_avg_score:3.2f} >> Elapsed = {elapsed}    ', end='')\n",
    "\n",
    "        if ep % 100 == 0:\n",
    "            print('')\n",
    "\n",
    "        if ep / episodes == .1:\n",
    "            # Save models when 10% of episodes are complete. This is a one time process\n",
    "            agent.save_models(checkptfile)\n",
    "            print(f'\\rModels Saved at {max_avg_ep}. Max score changed from {max_avg_score:3.2f} to {avg_score:3.2f}, Time Elapsed = {elapsed}                      ', end='')\n",
    "            \n",
    "        if goal_ep:\n",
    "            # Already solved. Better model gets updated during 'avg' section. Not required to overwrite\n",
    "            continue \n",
    "            \n",
    "        if avg_score >= goal_score:\n",
    "            print(f'\\n\\nSolved in {ep} episodes - Received an average score of {avg_score:4.2f} in last 100')\n",
    "            agent.save_models(checkptfile)\n",
    "            goal_ep = ep\n",
    "            if stop_at_goal:\n",
    "                break\n",
    "\n",
    "    print('\\nTraining completed. Models saved.')"
   ]
  },
  {
   "cell_type": "code",
   "execution_count": 21,
   "metadata": {},
   "outputs": [
    {
     "data": {
      "image/png": "[encoded data removed]",
      "text/plain": [
       "<Figure size 576x396 with 1 Axes>"
      ]
     },
     "metadata": {},
     "output_type": "display_data"
    }
   ],
   "source": [
    "from matplotlib import pyplot as plt\n",
    "\n",
    "if (is_learning):\n",
    "    # plt.style.use(plt.style.available[random.randint(0, len(plt.style.available)-1)])\n",
    "    plt.style.use('seaborn')\n",
    "    plt.title('Training Progress')\n",
    "    plt.xlabel('Episode')\n",
    "    plt.ylabel('Reward')\n",
    "    plt.grid(True)\n",
    "    plt.plot(scores, label='Reward')\n",
    "    plt.plot(avg_scores, label='Average')\n",
    "    plt.axhline(y=goal_score, color='red', linestyle='-', lw=1, label=f'Avg Reward Goal = {goal_score}', ds='steps')\n",
    "    plt.scatter(x=goal_ep, y=0, color='red', lw=2., zorder=3, label=f'Goal met at {goal_ep}')\n",
    "    plt.scatter(x=max_avg_ep, y=max_avg_score, color='black', lw=2., zorder=3, label=f'Max Avg {max_avg_score:3.2f} at {max_avg_ep}')\n",
    "    plt.legend()\n",
    "    plt.plot()\n",
    "    plt.savefig(f'tennis_ddpg_{int(max_avg_score * 100)}.png')"
   ]
  },
  {
   "cell_type": "markdown",
   "metadata": {},
   "source": [
    "### Trained Agent - Demo"
   ]
  },
  {
   "cell_type": "code",
   "execution_count": 22,
   "metadata": {},
   "outputs": [
    {
     "name": "stdout",
     "output_type": "stream",
     "text": [
      "Game over! Player 1 won!!\n",
      "Ball was bounced for a total of 52 times by both players.\n"
     ]
    }
   ],
   "source": [
    "agent.load_models(checkptfile)\n",
    "\n",
    "env_info = env.reset(train_mode=False)[brain_name]        \n",
    "states = env_info.vector_observations                  \n",
    "score  = 0\n",
    "\n",
    "while True:\n",
    "    actions  = agent.get_next_action(states, add_noise=False)                    \n",
    "    env_info = env.step(actions)[brain_name]        \n",
    "    next_states = env_info.vector_observations        \n",
    "    rewards  = env_info.rewards                        \n",
    "    dones    = env_info.local_done                 \n",
    "    score   += np.max(rewards)\n",
    "    states   = next_states                              \n",
    "    if np.any(dones):\n",
    "        print(f'Game over! Player {int(np.argmax(rewards)) + 1} won!!')\n",
    "        break\n",
    "        \n",
    "print(f'Ball was bounced for a total of {int(score * 10)} times by both players.')"
   ]
  },
  {
   "cell_type": "code",
   "execution_count": 23,
   "metadata": {},
   "outputs": [],
   "source": [
    "env.close()"
   ]
  }
 ],
 "metadata": {
  "kernelspec": {
   "display_name": "drlnd",
   "language": "python",
   "name": "drlnd"
  },
  "language_info": {
   "codemirror_mode": {
    "name": "ipython",
    "version": 3
   },
   "file_extension": ".py",
   "mimetype": "text/x-python",
   "name": "python",
   "nbconvert_exporter": "python",
   "pygments_lexer": "ipython3",
   "version": "3.6.9"
  }
 },
 "nbformat": 4,
 "nbformat_minor": 2
}
